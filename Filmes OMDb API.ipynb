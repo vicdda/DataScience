{
 "cells": [
  {
   "cell_type": "code",
   "execution_count": null,
   "metadata": {},
   "outputs": [],
   "source": [
    "# Importando bibliotecas necessárias\n",
    "import requests\n",
    "import json\n",
    "from skimage import io\n",
    "import matplotlib.pyplot as plt\n",
    "\n",
    "# Configurando a URL da API.\n",
    "# Para realizar a consulta, deve-se solicitar a chave da API gratuitamente no link: http://www.omdbapi.com/apikey.aspx\n",
    "# Feito isso coloque a chave depois de apikey na url finalizando com '&'. (Exemplo: http://www.omdbapi.com/?apikey=XXXXXXXX& )\n",
    "url = 'http://www.omdbapi.com/?apikey='\n",
    "filme = str(input('Digite o título que deseja (EM INGLÊS): '))\n",
    "url = url + 't=' + filme.replace(\" \",\"+\")\n",
    "r = requests.get(url)\n",
    "json_data = r.json()\n",
    "try:\n",
    "    print('Título: ' + json_data['Title'])\n",
    "    print('Ano: ' + json_data['Year'])\n",
    "    print('Data Lançamento: ' + json_data['Released'])\n",
    "    print('Gênero: ' + json_data['Genre'])\n",
    "    print('Diretor: ' + json_data['Director'])\n",
    "    print('Duração: ' + json_data['Runtime'])\n",
    "    img = io.imread(json_data['Poster'])\n",
    "    plt.imshow(img)\n",
    "    plt.show()\n",
    "except:\n",
    "    print('Filme não encontrado !')"
   ]
  }
 ],
 "metadata": {
  "kernelspec": {
   "display_name": "Python 3",
   "language": "python",
   "name": "python3"
  },
  "language_info": {
   "codemirror_mode": {
    "name": "ipython",
    "version": 3
   },
   "file_extension": ".py",
   "mimetype": "text/x-python",
   "name": "python",
   "nbconvert_exporter": "python",
   "pygments_lexer": "ipython3",
   "version": "3.7.3"
  }
 },
 "nbformat": 4,
 "nbformat_minor": 2
}
