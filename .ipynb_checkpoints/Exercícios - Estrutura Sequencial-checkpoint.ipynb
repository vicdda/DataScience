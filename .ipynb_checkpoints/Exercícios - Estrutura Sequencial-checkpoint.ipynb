{
 "cells": [
  {
   "cell_type": "markdown",
   "metadata": {},
   "source": [
    "# Lista de exercícios sobre Estrutura Sequencial do site PythonBrasil\n",
    "Esses exercícios foram tirados do link: https://wiki.python.org.br/EstruturaSequencial"
   ]
  },
  {
   "cell_type": "markdown",
   "metadata": {},
   "source": [
    "*1 - Faça um Programa que mostre a mensagem \"**Alo mundo**\" na tela.*"
   ]
  },
  {
   "cell_type": "code",
   "execution_count": null,
   "metadata": {},
   "outputs": [],
   "source": [
    "print(\"Alo mundo\")"
   ]
  },
  {
   "cell_type": "markdown",
   "metadata": {},
   "source": [
    "*2 - Faça um Programa que peça um número e então mostre a mensagem \"O número informado foi [número].\"*"
   ]
  },
  {
   "cell_type": "code",
   "execution_count": null,
   "metadata": {},
   "outputs": [],
   "source": [
    "print(\"Digite um número: \")\n",
    "x = int(input())\n",
    "print(\"O número informador foi\", x)"
   ]
  },
  {
   "cell_type": "markdown",
   "metadata": {},
   "source": [
    "*3 - Faça um Programa que peça dois números e imprima a soma.*"
   ]
  },
  {
   "cell_type": "code",
   "execution_count": null,
   "metadata": {},
   "outputs": [],
   "source": [
    "print(\"Informe o primeiro número: \")\n",
    "x=int(input())\n",
    "print(\"Informe o segundo número: \")\n",
    "y=int(input())\n",
    "print(\"A soma dos números é:\", x+y)"
   ]
  },
  {
   "cell_type": "markdown",
   "metadata": {},
   "source": [
    "*4 - Faça um Programa que peça as 4 notas bimestrais e mostre a média.*"
   ]
  },
  {
   "cell_type": "code",
   "execution_count": null,
   "metadata": {},
   "outputs": [],
   "source": [
    "print(\"Informe a primeira nota bimestral:\")\n",
    "n1 = float(input())\n",
    "print(\"Informe a segunda nota bimestral:\")\n",
    "n2 = float(input())\n",
    "print(\"Informe a terceira nota bimestral:\")\n",
    "n3 = float(input())\n",
    "print(\"Informe a quarta nota bimestral:\")\n",
    "n4 = float(input())\n",
    "print(\"A média das notas é\", (n1+n2+n3+n4)/4)"
   ]
  },
  {
   "cell_type": "markdown",
   "metadata": {},
   "source": [
    "*5 - Faça um Programa que converta metros para centímetros.*"
   ]
  },
  {
   "cell_type": "code",
   "execution_count": null,
   "metadata": {},
   "outputs": [],
   "source": [
    "print(\"Informe o valor em métros:\")\n",
    "x=float(input())\n",
    "print(x,\"metros equivalem a \",x*100,\" centímetros!\")"
   ]
  },
  {
   "cell_type": "markdown",
   "metadata": {},
   "source": [
    "*6 - Faça um Programa que peça o raio de um círculo, calcule e mostre sua área.*"
   ]
  },
  {
   "cell_type": "code",
   "execution_count": null,
   "metadata": {},
   "outputs": [],
   "source": [
    "pi = 3.1416\n",
    "print(\"Informe o raio do círculo:\")\n",
    "r=float(input())\n",
    "print(\"A área do círculo é\",pi*r**2)"
   ]
  },
  {
   "cell_type": "markdown",
   "metadata": {},
   "source": [
    "*7 - Faça um Programa que calcule a área de um quadrado, em seguida mostre o dobro desta área para o usuário.*"
   ]
  },
  {
   "cell_type": "code",
   "execution_count": null,
   "metadata": {},
   "outputs": [],
   "source": [
    "print(\"Informe medida de um lado do quadrado\")\n",
    "lado = float(input())\n",
    "print(\"A área do quadrado é\", lado**2,\"e o dobro é\", lado**4)"
   ]
  },
  {
   "cell_type": "markdown",
   "metadata": {},
   "source": [
    "*8 - Faça um Programa que pergunte quanto você ganha por hora e o número de horas trabalhadas no mês.\n",
    "Calcule e mostre o total do seu salário no referido mês.*"
   ]
  },
  {
   "cell_type": "code",
   "execution_count": null,
   "metadata": {},
   "outputs": [],
   "source": [
    "print(\"Informe o valor da hora trabalhada:\")\n",
    "valorhora = float(input())\n",
    "print(\"Informe as horas trabalhadas por mês:\")\n",
    "horas = float(input())\n",
    "print(\"Salário no mês\", valorhora*horas)"
   ]
  },
  {
   "cell_type": "markdown",
   "metadata": {},
   "source": [
    "*9 - Faça um Programa que peça a temperatura em graus Farenheit, transforme e mostre a temperatura em graus Celsius.*"
   ]
  },
  {
   "cell_type": "code",
   "execution_count": null,
   "metadata": {},
   "outputs": [],
   "source": [
    "print(\"Informe a temperatura em Farenheit:\")\n",
    "f=float(input())\n",
    "print(f,\"F equivalem a\",(f-32)*5/9,\"C\")"
   ]
  },
  {
   "cell_type": "markdown",
   "metadata": {},
   "source": [
    "*10 - Faça um Programa que peça a temperatura em graus Celsius, transforme e mostre em graus Farenheit.*"
   ]
  },
  {
   "cell_type": "code",
   "execution_count": null,
   "metadata": {},
   "outputs": [],
   "source": [
    "print(\"Informe a temperatura em Celsius:\")\n",
    "f=float(input())\n",
    "print(f,\"C equivalem a\",(f*9/5)+32,\"F\")"
   ]
  },
  {
   "cell_type": "markdown",
   "metadata": {},
   "source": [
    "*11 - Faça um Programa que peça 2 números inteiros e um número real. Calcule e mostre:\n",
    "     A. O produto do dobro do primeiro com metade do segundo.\n",
    "     B. A soma do triplo do primeiro com o terceiro.\n",
    "     C. O terceiro elevado ao cubo.*"
   ]
  },
  {
   "cell_type": "code",
   "execution_count": null,
   "metadata": {},
   "outputs": [],
   "source": [
    "print(\"Digite o primeiro número inteiro:\")\n",
    "n1=int(input())\n",
    "print(\"Digite o segundo número inteiro:\")\n",
    "n2=int(input())\n",
    "print(\"Digite um número real:\")\n",
    "nr=float(input())\n",
    "print(\"O produto do dobro do primeiro com a metado do segundo é\", (n2/2)*n1)\n",
    "print(\"A soma do triplo do primeiro com o terceiro é\", (n1**3)+nr)\n",
    "print(\"O terceiro elevado ao cubo é\", nr**3)"
   ]
  },
  {
   "cell_type": "markdown",
   "metadata": {},
   "source": [
    "*12 - Tendo como dados de entrada a altura de uma pessoa, construa um algoritmo que calcule seu peso ideal, usando a seguinte fórmula: (72.7*altura) - 58*"
   ]
  },
  {
   "cell_type": "code",
   "execution_count": null,
   "metadata": {},
   "outputs": [],
   "source": [
    "print(\"Informe a altura:\")\n",
    "alt=float(input())\n",
    "print(\"O peso ideal é\", (72.7*alt)-58)"
   ]
  },
  {
   "cell_type": "markdown",
   "metadata": {},
   "source": [
    "*13 - Tendo como dado de entrada a altura (h) de uma pessoa, construa um algoritmo que calcule seu peso ideal, utilizando as seguintes fórmulas:\n",
    "     *A. Para homens: (72.7*h) - *58*\n",
    "     *B. Para mulheres: (62.1*h) - *44.7*"
   ]
  },
  {
   "cell_type": "code",
   "execution_count": null,
   "metadata": {},
   "outputs": [],
   "source": [
    "print(\"Informe se é (h)omem ou (m)ulher:\")\n",
    "sexo=str(input()).lower()\n",
    "print(\"Informe a altura:\")\n",
    "alt=float(input())\n",
    "if sexo == \"h\":\n",
    "    print(\"O peso ideal é\", (72.7*alt)-58)\n",
    "else:\n",
    "    print(\"O peso ideal é\", (62.1*alt)-44.7)"
   ]
  },
  {
   "cell_type": "markdown",
   "metadata": {},
   "source": [
    "*14 - João Papo-de-Pescador, homem de bem, comprou um microcomputador para controlar o rendimento diário de seu trabalho. Toda vez que ele traz um peso de peixes maior que o estabelecido pelo regulamento de pesca do estado de São Paulo (50 quilos) deve pagar uma multa de 4,00 reais por quilo excedente. João precisa que você faça um programa que leia a variável peso (peso de peixes) e calcule o excesso. Gravar na variável excesso a quantidade de quilos além do limite e na variável multa o valor da multa que João deverá pagar. Imprima os dados do programa com as mensagens adequadas.*"
   ]
  },
  {
   "cell_type": "code",
   "execution_count": null,
   "metadata": {},
   "outputs": [],
   "source": [
    "print(\"Informe o peso do peixe:\")\n",
    "peso=(float(input()))\n",
    "if peso > 50:\n",
    "    excesso = peso - 50\n",
    "    multa = excesso * 4\n",
    "    print(\"Peso do peixe:\", peso)\n",
    "    print(\"Peso excedente:\", excesso)\n",
    "    print(\"Multa a pagar (R$)\", multa)\n",
    "else:\n",
    "    print(\"Parabéns! Não terá que pagar multa!\")"
   ]
  },
  {
   "cell_type": "markdown",
   "metadata": {},
   "source": [
    "*15 - Faça um Programa que pergunte quanto você ganha por hora e o número de horas trabalhadas no mês. Calcule e mostre o total do seu salário no referido mês, sabendo-se que são descontados 11% para o Imposto de Renda, 8% para o INSS e 5% para o sindicato, faça um programa que nos dê:\n",
    "     A. Salário bruto.\n",
    "     B. Quanto pagou ao INSS.\n",
    "     C. Quanto pagou ao sindicato.\n",
    "     D. O salário líquido.\n",
    "     E. Calcule os descontos e o salário líquido.*"
   ]
  },
  {
   "cell_type": "code",
   "execution_count": null,
   "metadata": {},
   "outputs": [],
   "source": [
    "print(\"Informe o valor por hora:\")\n",
    "valor=float(input())\n",
    "print(\"Informe o número de horas trabalhadas no mês:\")\n",
    "hora=float(input())\n",
    "\n",
    "total=valor*hora\n",
    "\n",
    "vl_IR = total*0.11\n",
    "vl_INSS = total*0.08\n",
    "vl_sindicato = total*0.05\n",
    "vl_liquido = total - (vl_IR+vl_INSS+vl_sindicato)\n",
    "\n",
    "print(\"Salário Bruto (R$):\", total)\n",
    "print(\"IR (11%):\",vl_IR)\n",
    "print(\"INSS (8%):\",vl_INSS)\n",
    "print(\"Sindicato (5%):\",vl_sindicato)\n",
    "print(\"Salário líquido (R$):\", vl_liquido)"
   ]
  },
  {
   "cell_type": "markdown",
   "metadata": {},
   "source": [
    "*16 - Faça um programa para uma loja de tintas. O programa deverá pedir o tamanho em metros quadrados da área a ser pintada. Considere que a cobertura da tinta é de 1 litro para cada 3 metros quadrados e que a tinta é vendida em latas de 18 litros, que custam 80,00 reais. Informe ao usuário a quantidades de latas de tinta a serem compradas e o preço total.*"
   ]
  },
  {
   "cell_type": "code",
   "execution_count": null,
   "metadata": {},
   "outputs": [],
   "source": [
    "print(\"Informe o valor da área a ser pintada:\")\n",
    "area = int(input())\n",
    "qtd_latas = int(area / 54)\n",
    "if area % 54 != 0:\n",
    "    x = int(qtd_latas+1)\n",
    "    print(\"Quantidade de latas necessárias:\", x)\n",
    "    print(\"Valor total (R$):\", x * 80)\n",
    "else:\n",
    "    x = int(qtd_latas)\n",
    "    print(\"Quantidade de latas necessárias:\", x)\n",
    "    print(\"Valor total (R$):\", x * 80)"
   ]
  },
  {
   "cell_type": "markdown",
   "metadata": {},
   "source": [
    "*17 - Faça um Programa para uma loja de tintas. O programa deverá pedir o tamanho em metros quadrados da área a ser pintada. Considere que a cobertura da tinta é de 1 litro para cada 6 metros quadrados e que a tinta é vendida em latas de 18 litros, que custam 80,00 reais ou em galões de 3,6 litros, que custam 25,00 reais.\n",
    "Informe ao usuário as quantidades de tinta a serem compradas e os respectivos preços em 3 situações:\n",
    "     A. Comprar apenas latas de 18 litros;\n",
    "     B. Comprar apenas galões de 3,6 litros;\n",
    "     C. Misturar latas e galões, de forma que o preço seja o menor. Acrescente 10% de folga e sempre arredonde os         valores para cima, isto é, considere latas cheias.*"
   ]
  },
  {
   "cell_type": "code",
   "execution_count": null,
   "metadata": {},
   "outputs": [],
   "source": [
    "print(\"Informe o valor da área a ser pintada:\")\n",
    "area = int(input())\n",
    "m2_lata = 108\n",
    "m2_galao = 21.6\n",
    "qtd_latas = int(area / m2_lata)\n",
    "qtd_galao = int(area / m2_galao)\n",
    "qtd_mistura\n",
    "\n",
    "if area % m2_lata != 0:\n",
    "    x = int(qtd_latas) + 1\n",
    "    print(\"+ Quantidade de Latas de 18l:\", x)\n",
    "    print(\"+ Valor total das latas (R$):\", x * 80)\n",
    "elif area % m2_lata == 0:\n",
    "    x = int(qtd_latas)\n",
    "    print(\"+ Quantidade de Latas de 18l:\", x)\n",
    "    print(\"+ Valor total das latas (R$):\", x * 80)\n",
    "\n",
    "if area % m2_galao != 0:\n",
    "    x = int(qtd_galao) + 1\n",
    "    print(\"+ Quantidade de Galão de 3,6l:\", x)\n",
    "    print(\"+ Valor total dos Galões (R$):\", x * 25)\n",
    "elif area % m2_galao == 0:\n",
    "    x = int(qtd_galao)\n",
    "    print(\"+ Quantidade de Galão de 3,6l:\", x)\n",
    "    print(\"+ Valor total dos Galões (R$):\", x * 25)"
   ]
  },
  {
   "cell_type": "markdown",
   "metadata": {},
   "source": [
    "*18 - Faça um programa que peça o tamanho de um arquivo para download (em MB) e a velocidade de um link de Internet (em Mbps), calcule e informe o tempo aproximado de download do arquivo usando este link (em minutos).*"
   ]
  },
  {
   "cell_type": "code",
   "execution_count": null,
   "metadata": {},
   "outputs": [],
   "source": []
  }
 ],
 "metadata": {
  "kernelspec": {
   "display_name": "Python 3",
   "language": "python",
   "name": "python3"
  },
  "language_info": {
   "codemirror_mode": {
    "name": "ipython",
    "version": 3
   },
   "file_extension": ".py",
   "mimetype": "text/x-python",
   "name": "python",
   "nbconvert_exporter": "python",
   "pygments_lexer": "ipython3",
   "version": "3.7.3"
  }
 },
 "nbformat": 4,
 "nbformat_minor": 2
}
