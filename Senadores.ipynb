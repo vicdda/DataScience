{
 "cells": [
  {
   "cell_type": "code",
   "execution_count": 1,
   "metadata": {},
   "outputs": [],
   "source": [
    "# Importando bibliotecas necessárias\n",
    "import pandas as pd\n",
    "import matplotlib.pyplot as plt\n",
    "\n",
    "%matplotlib inline"
   ]
  },
  {
   "cell_type": "code",
   "execution_count": 2,
   "metadata": {},
   "outputs": [],
   "source": [
    "# Carregando DataFrame\n",
    "df = pd.read_csv('http://www.senado.gov.br/transparencia/LAI/verba/2018.csv', sep = ';', encoding = 'latin1', decimal = ',', skiprows = 1)"
   ]
  },
  {
   "cell_type": "code",
   "execution_count": 3,
   "metadata": {},
   "outputs": [
    {
     "data": {
      "text/html": [
       "<div>\n",
       "<style scoped>\n",
       "    .dataframe tbody tr th:only-of-type {\n",
       "        vertical-align: middle;\n",
       "    }\n",
       "\n",
       "    .dataframe tbody tr th {\n",
       "        vertical-align: top;\n",
       "    }\n",
       "\n",
       "    .dataframe thead th {\n",
       "        text-align: right;\n",
       "    }\n",
       "</style>\n",
       "<table border=\"1\" class=\"dataframe\">\n",
       "  <thead>\n",
       "    <tr style=\"text-align: right;\">\n",
       "      <th></th>\n",
       "      <th>ANO</th>\n",
       "      <th>MES</th>\n",
       "      <th>SENADOR</th>\n",
       "      <th>TIPO_DESPESA</th>\n",
       "      <th>CNPJ_CPF</th>\n",
       "      <th>FORNECEDOR</th>\n",
       "      <th>DOCUMENTO</th>\n",
       "      <th>DATA</th>\n",
       "      <th>DETALHAMENTO</th>\n",
       "      <th>VALOR_REEMBOLSADO</th>\n",
       "    </tr>\n",
       "  </thead>\n",
       "  <tbody>\n",
       "    <tr>\n",
       "      <th>0</th>\n",
       "      <td>2018</td>\n",
       "      <td>1</td>\n",
       "      <td>ACIR GURGACZ</td>\n",
       "      <td>Aluguel de imóveis para escritório político, c...</td>\n",
       "      <td>004.948.028-63</td>\n",
       "      <td>GILBERTO PISELO DO NASCIMENTO</td>\n",
       "      <td>NaN</td>\n",
       "      <td>02/01/2018</td>\n",
       "      <td>Despesa com pagamento de aluguel de imóvel par...</td>\n",
       "      <td>6000.00</td>\n",
       "    </tr>\n",
       "    <tr>\n",
       "      <th>1</th>\n",
       "      <td>2018</td>\n",
       "      <td>1</td>\n",
       "      <td>ACIR GURGACZ</td>\n",
       "      <td>Passagens aéreas, aquáticas e terrestres nacio...</td>\n",
       "      <td>63.764.211/0001-10</td>\n",
       "      <td>TRANSCONTINENTAL AGÊNCIA DE VIAGENS LTDA</td>\n",
       "      <td>M2CJMM</td>\n",
       "      <td>02/01/2018</td>\n",
       "      <td>Companhia Aérea: AVIANCA, Localizador: M2CJMM....</td>\n",
       "      <td>274.99</td>\n",
       "    </tr>\n",
       "    <tr>\n",
       "      <th>2</th>\n",
       "      <td>2018</td>\n",
       "      <td>1</td>\n",
       "      <td>ACIR GURGACZ</td>\n",
       "      <td>Passagens aéreas, aquáticas e terrestres nacio...</td>\n",
       "      <td>63.764.211/0001-10</td>\n",
       "      <td>TRANSCONTINENTAL AGÊNCIA DE VIAGENS LTDA</td>\n",
       "      <td>SFEXYF</td>\n",
       "      <td>02/01/2018</td>\n",
       "      <td>Companhia Aérea: LATAM, Localizador: SFEXYF. P...</td>\n",
       "      <td>1094.29</td>\n",
       "    </tr>\n",
       "    <tr>\n",
       "      <th>3</th>\n",
       "      <td>2018</td>\n",
       "      <td>1</td>\n",
       "      <td>ACIR GURGACZ</td>\n",
       "      <td>Passagens aéreas, aquáticas e terrestres nacio...</td>\n",
       "      <td>63.764.211/0001-10</td>\n",
       "      <td>TRANSCONTINENTAL AGÊNCIA DE VIAGENS LTDA</td>\n",
       "      <td>V64HTR</td>\n",
       "      <td>24/01/2018</td>\n",
       "      <td>Companhia Aérea: AZUL, Localizador: V64HTR. Pa...</td>\n",
       "      <td>1553.99</td>\n",
       "    </tr>\n",
       "    <tr>\n",
       "      <th>4</th>\n",
       "      <td>2018</td>\n",
       "      <td>2</td>\n",
       "      <td>ACIR GURGACZ</td>\n",
       "      <td>Aluguel de imóveis para escritório político, c...</td>\n",
       "      <td>004.948.028-63</td>\n",
       "      <td>GILBERTO PISELO DO NASCIMENTO</td>\n",
       "      <td>002/18</td>\n",
       "      <td>01/02/2018</td>\n",
       "      <td>Despesa com pagamento de aluguel de imóvel par...</td>\n",
       "      <td>6000.00</td>\n",
       "    </tr>\n",
       "  </tbody>\n",
       "</table>\n",
       "</div>"
      ],
      "text/plain": [
       "    ANO  MES       SENADOR                                       TIPO_DESPESA  \\\n",
       "0  2018    1  ACIR GURGACZ  Aluguel de imóveis para escritório político, c...   \n",
       "1  2018    1  ACIR GURGACZ  Passagens aéreas, aquáticas e terrestres nacio...   \n",
       "2  2018    1  ACIR GURGACZ  Passagens aéreas, aquáticas e terrestres nacio...   \n",
       "3  2018    1  ACIR GURGACZ  Passagens aéreas, aquáticas e terrestres nacio...   \n",
       "4  2018    2  ACIR GURGACZ  Aluguel de imóveis para escritório político, c...   \n",
       "\n",
       "             CNPJ_CPF                                FORNECEDOR DOCUMENTO  \\\n",
       "0      004.948.028-63             GILBERTO PISELO DO NASCIMENTO       NaN   \n",
       "1  63.764.211/0001-10  TRANSCONTINENTAL AGÊNCIA DE VIAGENS LTDA    M2CJMM   \n",
       "2  63.764.211/0001-10  TRANSCONTINENTAL AGÊNCIA DE VIAGENS LTDA    SFEXYF   \n",
       "3  63.764.211/0001-10  TRANSCONTINENTAL AGÊNCIA DE VIAGENS LTDA    V64HTR   \n",
       "4      004.948.028-63             GILBERTO PISELO DO NASCIMENTO    002/18   \n",
       "\n",
       "         DATA                                       DETALHAMENTO  \\\n",
       "0  02/01/2018  Despesa com pagamento de aluguel de imóvel par...   \n",
       "1  02/01/2018  Companhia Aérea: AVIANCA, Localizador: M2CJMM....   \n",
       "2  02/01/2018  Companhia Aérea: LATAM, Localizador: SFEXYF. P...   \n",
       "3  24/01/2018  Companhia Aérea: AZUL, Localizador: V64HTR. Pa...   \n",
       "4  01/02/2018  Despesa com pagamento de aluguel de imóvel par...   \n",
       "\n",
       "   VALOR_REEMBOLSADO  \n",
       "0            6000.00  \n",
       "1             274.99  \n",
       "2            1094.29  \n",
       "3            1553.99  \n",
       "4            6000.00  "
      ]
     },
     "execution_count": 3,
     "metadata": {},
     "output_type": "execute_result"
    }
   ],
   "source": [
    "# Amostra do DataFrame\n",
    "df.head()"
   ]
  },
  {
   "cell_type": "code",
   "execution_count": 4,
   "metadata": {},
   "outputs": [
    {
     "name": "stdout",
     "output_type": "stream",
     "text": [
      "<class 'pandas.core.frame.DataFrame'>\n",
      "RangeIndex: 24492 entries, 0 to 24491\n",
      "Data columns (total 10 columns):\n",
      "ANO                  24492 non-null int64\n",
      "MES                  24492 non-null int64\n",
      "SENADOR              24492 non-null object\n",
      "TIPO_DESPESA         24492 non-null object\n",
      "CNPJ_CPF             24492 non-null object\n",
      "FORNECEDOR           24492 non-null object\n",
      "DOCUMENTO            23476 non-null object\n",
      "DATA                 24492 non-null object\n",
      "DETALHAMENTO         18882 non-null object\n",
      "VALOR_REEMBOLSADO    24492 non-null float64\n",
      "dtypes: float64(1), int64(2), object(7)\n",
      "memory usage: 1.9+ MB\n"
     ]
    }
   ],
   "source": [
    "# Informações sobre os dados e colunas.\n",
    "df.info()"
   ]
  },
  {
   "cell_type": "code",
   "execution_count": 5,
   "metadata": {},
   "outputs": [
    {
     "data": {
      "text/plain": [
       "count     24492.000000\n",
       "mean       1045.431215\n",
       "std        2718.840577\n",
       "min           0.010000\n",
       "25%         125.000000\n",
       "50%         287.200000\n",
       "75%        1032.005000\n",
       "max      103900.000000\n",
       "Name: VALOR_REEMBOLSADO, dtype: float64"
      ]
     },
     "execution_count": 5,
     "metadata": {},
     "output_type": "execute_result"
    }
   ],
   "source": [
    "# Algumas informações sobre os dados da coluna 'VALOR_REEMBOLSADO'\n",
    "df['VALOR_REEMBOLSADO'].describe()"
   ]
  },
  {
   "cell_type": "code",
   "execution_count": 6,
   "metadata": {},
   "outputs": [
    {
     "data": {
      "text/plain": [
       "SENADOR\n",
       "EDUARDO BRAGA         529599.18\n",
       "VANESSA GRAZZIOTIN    515969.63\n",
       "JOÃO CAPIBERIBE       513333.90\n",
       "ÂNGELA PORTELA        485806.44\n",
       "OMAR AZIZ             484143.98\n",
       "CIRO NOGUEIRA         455942.09\n",
       "ROMERO JUCÁ           454526.97\n",
       "GLADSON CAMELI        443981.70\n",
       "FERNANDO COLLOR       435944.08\n",
       "JORGE VIANA           430121.30\n",
       "Name: VALOR_REEMBOLSADO, dtype: float64"
      ]
     },
     "execution_count": 6,
     "metadata": {},
     "output_type": "execute_result"
    }
   ],
   "source": [
    "# Quais são os TOP 10 senadores que tiveram os maiores valores de pedido de reembolso no ano de 2018 ? Ordenado do maior para o menor valor.\n",
    "df.groupby('SENADOR')['VALOR_REEMBOLSADO'].sum().sort_values(ascending = False).head(10)"
   ]
  },
  {
   "cell_type": "code",
   "execution_count": 7,
   "metadata": {},
   "outputs": [
    {
     "data": {
      "text/plain": [
       "EDUARDO LOPES              864\n",
       "PAULO BAUER                824\n",
       "WELLINGTON FAGUNDES        800\n",
       "JOSÉ SERRA                 715\n",
       "GLEISI HOFFMANN            653\n",
       "HUMBERTO COSTA             648\n",
       "LÍDICE DA MATA             628\n",
       "JOSÉ MEDEIROS              598\n",
       "FERNANDO BEZERRA COELHO    560\n",
       "ARMANDO MONTEIRO           550\n",
       "Name: SENADOR, dtype: int64"
      ]
     },
     "execution_count": 7,
     "metadata": {},
     "output_type": "execute_result"
    }
   ],
   "source": [
    "# Quais foram os TOP 10 senadores que mais pediram reembolso no ano de 2018 ?\n",
    "df['SENADOR'].value_counts().sort_values(ascending = False).head(10)"
   ]
  },
  {
   "cell_type": "code",
   "execution_count": 8,
   "metadata": {},
   "outputs": [
    {
     "data": {
      "text/plain": [
       "Locomoção, hospedagem, alimentação, combustíveis e lubrificantes                                                                                                                                   10147\n",
       "Passagens aéreas, aquáticas e terrestres nacionais                                                                                                                                                  5820\n",
       "Aluguel de imóveis para escritório político, compreendendo despesas concernentes a eles.                                                                                                            5042\n",
       "Aquisição de material de consumo para uso no escritório político, inclusive aquisição ou locação de software, despesas postais, aquisição de publicações, locação de móveis e de equipamentos.      1761\n",
       "Contratação de consultorias, assessorias, pesquisas, trabalhos técnicos e outros serviços de apoio ao exercício do mandato parlamentar                                                               928\n",
       "Divulgação da atividade parlamentar                                                                                                                                                                  750\n",
       "Serviços de Segurança Privada                                                                                                                                                                         44\n",
       "Name: TIPO_DESPESA, dtype: int64"
      ]
     },
     "execution_count": 8,
     "metadata": {},
     "output_type": "execute_result"
    }
   ],
   "source": [
    "# Para qual tipo de despesa os senadores pediram mais reembolso ?\n",
    "df['TIPO_DESPESA'].value_counts().sort_values(ascending = False)"
   ]
  },
  {
   "cell_type": "code",
   "execution_count": 9,
   "metadata": {},
   "outputs": [
    {
     "data": {
      "text/html": [
       "<div>\n",
       "<style scoped>\n",
       "    .dataframe tbody tr th:only-of-type {\n",
       "        vertical-align: middle;\n",
       "    }\n",
       "\n",
       "    .dataframe tbody tr th {\n",
       "        vertical-align: top;\n",
       "    }\n",
       "\n",
       "    .dataframe thead th {\n",
       "        text-align: right;\n",
       "    }\n",
       "</style>\n",
       "<table border=\"1\" class=\"dataframe\">\n",
       "  <thead>\n",
       "    <tr style=\"text-align: right;\">\n",
       "      <th></th>\n",
       "      <th>ANO</th>\n",
       "      <th>MES</th>\n",
       "      <th>SENADOR</th>\n",
       "      <th>TIPO_DESPESA</th>\n",
       "      <th>CNPJ_CPF</th>\n",
       "      <th>FORNECEDOR</th>\n",
       "      <th>DOCUMENTO</th>\n",
       "      <th>DATA</th>\n",
       "      <th>DETALHAMENTO</th>\n",
       "      <th>VALOR_REEMBOLSADO</th>\n",
       "    </tr>\n",
       "  </thead>\n",
       "  <tbody>\n",
       "    <tr>\n",
       "      <th>21225</th>\n",
       "      <td>2018</td>\n",
       "      <td>12</td>\n",
       "      <td>ROSE DE FREITAS</td>\n",
       "      <td>Divulgação da atividade parlamentar</td>\n",
       "      <td>05.461.408/0001-84</td>\n",
       "      <td>Grafitusa S/A</td>\n",
       "      <td>000009681</td>\n",
       "      <td>29/03/2019</td>\n",
       "      <td>NaN</td>\n",
       "      <td>103900.0</td>\n",
       "    </tr>\n",
       "  </tbody>\n",
       "</table>\n",
       "</div>"
      ],
      "text/plain": [
       "        ANO  MES          SENADOR                         TIPO_DESPESA  \\\n",
       "21225  2018   12  ROSE DE FREITAS  Divulgação da atividade parlamentar   \n",
       "\n",
       "                 CNPJ_CPF     FORNECEDOR  DOCUMENTO        DATA DETALHAMENTO  \\\n",
       "21225  05.461.408/0001-84  Grafitusa S/A  000009681  29/03/2019          NaN   \n",
       "\n",
       "       VALOR_REEMBOLSADO  \n",
       "21225           103900.0  "
      ]
     },
     "execution_count": 9,
     "metadata": {},
     "output_type": "execute_result"
    }
   ],
   "source": [
    "# Quem fez o maior pedido de reembolso ?\n",
    "df[df.VALOR_REEMBOLSADO == 103900]"
   ]
  },
  {
   "cell_type": "code",
   "execution_count": 10,
   "metadata": {},
   "outputs": [
    {
     "data": {
      "text/plain": [
       "[<matplotlib.lines.Line2D at 0x7fda3cca5ef0>]"
      ]
     },
     "execution_count": 10,
     "metadata": {},
     "output_type": "execute_result"
    },
    {
     "data": {
      "image/png": "[encoded data removed]",
      "text/plain": [
       "<Figure size 432x288 with 1 Axes>"
      ]
     },
     "metadata": {
      "needs_background": "light"
     },
     "output_type": "display_data"
    }
   ],
   "source": [
    "# Qual o mês que teve maior pedido de reembolso ?\n",
    "periodo_reembolso = df.groupby(['MES'])['VALOR_REEMBOLSADO'].count()\n",
    "plt.plot(periodo_reembolso)"
   ]
  },
  {
   "cell_type": "code",
   "execution_count": 11,
   "metadata": {},
   "outputs": [
    {
     "data": {
      "text/plain": [
       "LATAM                                          615\n",
       "Posto de Gasolina e Garagem Echeverria Ltda    547\n",
       "Name: FORNECEDOR, dtype: int64"
      ]
     },
     "execution_count": 11,
     "metadata": {},
     "output_type": "execute_result"
    }
   ],
   "source": [
    "# Para quais 2 fornecedores tiveram mais solicitações de reembolso?\n",
    "df['FORNECEDOR'].value_counts().head(2)"
   ]
  },
  {
   "cell_type": "code",
   "execution_count": null,
   "metadata": {},
   "outputs": [],
   "source": []
  }
 ],
 "metadata": {
  "kernelspec": {
   "display_name": "Python 3",
   "language": "python",
   "name": "python3"
  },
  "language_info": {
   "codemirror_mode": {
    "name": "ipython",
    "version": 3
   },
   "file_extension": ".py",
   "mimetype": "text/x-python",
   "name": "python",
   "nbconvert_exporter": "python",
   "pygments_lexer": "ipython3",
   "version": "3.7.3"
  }
 },
 "nbformat": 4,
 "nbformat_minor": 2
}
